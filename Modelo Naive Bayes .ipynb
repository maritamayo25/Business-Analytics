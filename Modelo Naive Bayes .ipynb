{
  "nbformat": 4,
  "nbformat_minor": 0,
  "metadata": {
    "colab": {
      "provenance": [],
      "authorship_tag": "ABX9TyP2or0Fuqu+TgycGflvarJ/",
      "include_colab_link": true
    },
    "kernelspec": {
      "name": "python3",
      "display_name": "Python 3"
    },
    "language_info": {
      "name": "python"
    }
  },
  "cells": [
    {
      "cell_type": "markdown",
      "metadata": {
        "id": "view-in-github",
        "colab_type": "text"
      },
      "source": [
        "<a href=\"https://colab.research.google.com/github/maritamayo25/Business-Analytics/blob/main/Reto_1.ipynb\" target=\"_parent\"><img src=\"https://colab.research.google.com/assets/colab-badge.svg\" alt=\"Open In Colab\"/></a>"
      ]
    },
    {
      "cell_type": "markdown",
      "source": [
        "**Modelo Naive Bayes accidentes automovilisticos**\n",
        "\n",
        " 0. Cargar las librerías de trabajo"
      ],
      "metadata": {
        "id": "MJP4sqYruZ7D"
      }
    },
    {
      "cell_type": "code",
      "source": [
        "import numpy as np #Funciones matemáticas\n",
        "import pandas as pd #Conexión con archivos de Excel\n",
        "\n",
        "from sklearn.naive_bayes import GaussianNB\n",
        "from sklearn.metrics import confusion_matrix #Metricas - como lo voy a evaluar"
      ],
      "metadata": {
        "id": "VkUxjHVnud01"
      },
      "execution_count": null,
      "outputs": []
    },
    {
      "cell_type": "markdown",
      "source": [
        "1. Carga de los datos"
      ],
      "metadata": {
        "id": "MjrK7rBL5dEU"
      }
    },
    {
      "cell_type": "code",
      "source": [
        "nxl='/content/1. BD2_CarCrash_Int.xlsx'\n",
        "XDB=pd.read_excel(nxl,sheet_name=0)\n",
        "XDB.dropna() #para evitar celdas vacías\n",
        "XDB.head(100)\n",
        "\n",
        "#Creamos el DataMart\n",
        "#Creamos el DataMart\n",
        "XD=XDB[['Weekday', 'ViolCat', 'ClearWeather', 'Month', 'Daylight']] #Variables Entrada\n",
        "yd=XDB[['Highway']] #valor  deseado - aprenda el modelo\n",
        "\n"
      ],
      "metadata": {
        "id": "2Tv5RKfP5frR"
      },
      "execution_count": null,
      "outputs": []
    },
    {
      "cell_type": "markdown",
      "source": [
        "2.Se procede con la configuración y evaluación del modelo Naive Bayes\n"
      ],
      "metadata": {
        "id": "aMIIjTfx_tfw"
      }
    },
    {
      "cell_type": "code",
      "source": [
        "len(XD)                #% de accidentados en la autopista o no\n",
        "filas=np.where(yd==1)[0]\n",
        "len(filas)\n",
        "len(filas)/len(XD)\n",
        "\n",
        "len(XD)\n",
        "filas=np.where(yd==0)[0]\n",
        "len(filas)\n",
        "len(filas)/len(XD)\n",
        "\n",
        "\n",
        "\n",
        "mnb=GaussianNB()\n",
        "mnb.fit(XD,yd)\n",
        "\n",
        "#Analizamos los resultados arrojados por el modelo\n",
        "u=mnb.theta_ #son las medias\n",
        "print(\"las medias de las variables son:\\n\", u)\n",
        "sigma=np.sqrt (mnb.var_) #obtengo las desviaciones\n",
        "\n",
        "#Se procede con el análisis de las variaciones de las variables\n",
        "LS=u+sigma\n",
        "print(\"los limites superiores para las variables son: \\n\", LS)\n",
        "LI=u-sigma\n",
        "print(\"los limites inferiores para las variables son: \\n\", LI)\n",
        "\n",
        "print(\"los valores de las desviaciones son:\\n\", sigma)\n",
        "#se procede con la evaluación del comportamiento del modelo\n",
        "#prediciendo los valores de accidentes provocados en una autopista o no del valor deseado\n",
        "ydp=mnb.predict(XD)\n",
        "\n",
        "cm=confusion_matrix(yd,ydp)\n",
        "print(\"la matriz de confusión es: \\n\",cm)\n",
        "VN=cm[0,0];FP=cm[0,1];FN=cm[1,0];VP=cm[1,1]\n",
        "\n",
        "Ex=(VP+VN)/len(XD)\n",
        "print(\"La exactitud del modelo es:\",Ex)\n",
        "# verdadero negativo, falso positivo\n",
        "#falso negativo, verdadero positivo\n",
        "\n",
        "Ter=(FP+FN)/len(XD)\n",
        "print(\"La tasa de error del modelo es:\", Ter)\n",
        "\n",
        "Sen=VP/(VP+FN)\n",
        "print(\"La sensibilidad del modelo es:\", Sen)\n",
        "\n",
        "Esp=VN/(VN+FP)\n",
        "print(\"La especifidad del modelo es:\", Esp)\n",
        "\n",
        "Pres=VP/(VP+FP)\n",
        "print(\"La precisión del modelo es:\", Pres)\n",
        "\n",
        "PredNeg=VN/(VN+FN)\n",
        "print(\"El valor de predicción negativo del modelo es:\", PredNeg)\n",
        "\n",
        "#Para indicar\n",
        "XSC=[[7,1,1,3,0]]\n",
        "ydsc=mnb.predict(XSC)\n",
        "print (\"El ciudadano:\", ydsc)\n",
        "\n",
        "\n",
        "\n",
        "\n"
      ],
      "metadata": {
        "colab": {
          "base_uri": "https://localhost:8080/"
        },
        "id": "O9A28TZc_uOI",
        "outputId": "27320552-6f15-4967-d44c-a9ed02b9fcdb"
      },
      "execution_count": null,
      "outputs": [
        {
          "output_type": "stream",
          "name": "stdout",
          "text": [
            "las medias de las variables son:\n",
            " [[3.88945752 6.7778915  0.85261003 5.52548618 0.6814739 ]\n",
            " [3.82417582 4.31538462 0.79450549 5.47417582 0.70934066]]\n",
            "los limites superiores para las variables son: \n",
            " [[ 5.81776877 10.41264957  1.20710429  8.79927955  1.14737865]\n",
            " [ 5.65218385  6.68332168  1.19856802  8.73632861  1.16340729]]\n",
            "los limites inferiores para las variables son: \n",
            " [[1.96114628 3.14313344 0.49811577 2.25169281 0.21556915]\n",
            " [1.9961678  1.94744755 0.39044297 2.21202304 0.25527403]]\n",
            "los valores de las desviaciones son:\n",
            " [[1.92831125 3.63475806 0.35449426 3.27379337 0.46590475]\n",
            " [1.82800803 2.36793707 0.40406253 3.26215279 0.45406663]]\n",
            "la matriz de confusión es: \n",
            " [[4560  325]\n",
            " [1563  257]]\n",
            "La exactitud del modelo es: 0.7184190902311708\n",
            "La tasa de error del modelo es: 0.2815809097688292\n",
            "La sensibilidad del modelo es: 0.1412087912087912\n",
            "La especifidad del modelo es: 0.9334698055271239\n",
            "La precisión del modelo es: 0.4415807560137457\n",
            "El valor de predicción negativo del modelo es: 0.7447329740323371\n",
            "El ciudadano: [0]\n"
          ]
        },
        {
          "output_type": "stream",
          "name": "stderr",
          "text": [
            "/usr/local/lib/python3.10/dist-packages/sklearn/utils/validation.py:1183: DataConversionWarning: A column-vector y was passed when a 1d array was expected. Please change the shape of y to (n_samples, ), for example using ravel().\n",
            "  y = column_or_1d(y, warn=True)\n",
            "/usr/local/lib/python3.10/dist-packages/sklearn/base.py:465: UserWarning: X does not have valid feature names, but GaussianNB was fitted with feature names\n",
            "  warnings.warn(\n"
          ]
        }
      ]
    },
    {
      "cell_type": "markdown",
      "source": [
        "**Análisis de resultados**\n",
        "\n",
        "Los resultados arrojados por el modelo propuesto frente al pronóstico de los accidentes automovilísticos provocados en una autopista mostro que la precisión alcanzo un porcentaje del 71% lo que indica que de un total de 100 accidentes automovilísticos el modelo tiende a equivocarse en 29 de ellos. Según la métrica de sensibilidad la cual alcanzó un valor de 14% frente a los accidentes automovilísticos que fueron provocados en la autopista y una especifidad de 93% frente a los accidentes automovilísticos **no** provocados en la autopista, lo que muestra que el modelo funciona mejor para Predecir si un accidente automovilístico **no** se provoco en la autopista, es importante tener en cuenta que el modelo arroja un informe de resultados en donde se evalua los accidentes automovilísticos provocados en la autopista o no para el condado de San Diego, para la predicción de los accidentes se tuvo en cuenta las siguientes variables: Día de la Semana, Nivel de Impacto (ViolCat), Mes, Cantidad de Luz Diurna, y Cielo Despejado, ya que estos factores contribuyen a los accidentes automovilísticos. Como información adicional la base de datos posee un total de 6705 accidentes automovilísticos, el 27% de ellos fueron provocados en la autopista y el 72,8% no fueron provocados en la autopista."
      ],
      "metadata": {
        "id": "RQDse_zpjhjf"
      }
    }
  ]
}
