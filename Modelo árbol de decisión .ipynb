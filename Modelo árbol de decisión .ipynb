{
  "nbformat": 4,
  "nbformat_minor": 0,
  "metadata": {
    "colab": {
      "provenance": [],
      "include_colab_link": true
    },
    "kernelspec": {
      "name": "python3",
      "display_name": "Python 3"
    },
    "language_info": {
      "name": "python"
    }
  },
  "cells": [
    {
      "cell_type": "markdown",
      "metadata": {
        "id": "view-in-github",
        "colab_type": "text"
      },
      "source": [
        "<a href=\"https://colab.research.google.com/github/maritamayo25/Business-Analytics/blob/main/Reto_2ipynb.ipynb\" target=\"_parent\"><img src=\"https://colab.research.google.com/assets/colab-badge.svg\" alt=\"Open In Colab\"/></a>"
      ]
    },
    {
      "cell_type": "markdown",
      "source": [
        "**Modelo árbol de decisión**\n",
        "0. Se cargan las librerías de trabajo"
      ],
      "metadata": {
        "id": "Fsm-ajsGxJf6"
      }
    },
    {
      "cell_type": "code",
      "source": [
        "import numpy as np\n",
        "import pandas as pd\n",
        "import matplotlib.pyplot as plt\n",
        "\n",
        "# se trae el modelo\n",
        "from sklearn.tree import DecisionTreeClassifier\n",
        "\n",
        "#Para llamar los archivoa del Drive - sin tener que subirlos\n",
        "from google.colab import drive\n",
        "drive.mount('/content/drive')"
      ],
      "metadata": {
        "colab": {
          "base_uri": "https://localhost:8080/"
        },
        "id": "xdVYCV66xYWY",
        "outputId": "71c4c09e-a2f0-41fa-dd90-fc43295ae9b9"
      },
      "execution_count": null,
      "outputs": [
        {
          "output_type": "stream",
          "name": "stdout",
          "text": [
            "Mounted at /content/drive\n"
          ]
        }
      ]
    },
    {
      "cell_type": "markdown",
      "source": [
        "1. Se cargan los datos desde el drive"
      ],
      "metadata": {
        "id": "BY-ay4HSyBV1"
      }
    },
    {
      "cell_type": "code",
      "source": [
        "\n",
        "nxl='/content/drive/MyDrive/Analitica de negocios/2. BD2_In_App_Pur_Int.xlsx'\n",
        "XDB=pd.read_excel(nxl,sheet_name=0)\n",
        "XDB=XDB. dropna()\n",
        "XDB.head()\n",
        "\n",
        "#seleccionamos las variables de interés\n",
        "XD=XDB[['Age', 'Income', 'Years', 'Hours']]\n",
        "XD.head()\n",
        "XD=np.array(XD)#Convierto la tabla en números - Variables de Entrada\n",
        "yd=XDB[['Buy']]; yd=np.array(yd)    #Variable de salida - Convierto a la tabla\n",
        "\n",
        "len(XD)                #% de accidentados en la autopista o no\n",
        "filas=np.where(yd==1)[0]\n",
        "len(filas)\n",
        "len(filas)/len(XD)"
      ],
      "metadata": {
        "id": "oYKkBv_dyFXo",
        "colab": {
          "base_uri": "https://localhost:8080/"
        },
        "outputId": "15cc2e0e-6923-4721-8512-af088e32da04"
      },
      "execution_count": null,
      "outputs": [
        {
          "output_type": "execute_result",
          "data": {
            "text/plain": [
              "0.5275"
            ]
          },
          "metadata": {},
          "execution_count": 10
        }
      ]
    },
    {
      "cell_type": "markdown",
      "source": [
        "2.Se procede con la construcción del modelo de árbol"
      ],
      "metadata": {
        "id": "F3wMGiAVziPX"
      }
    },
    {
      "cell_type": "code",
      "source": [
        "mar=DecisionTreeClassifier(criterion='gini', max_depth=4)\n",
        "mar.fit(XD,yd)\n",
        "ydp=mar.predict(XD)#Estos valores de pronóstico sirven para evaluar el modelo\n",
        "\n",
        "#Evaluamos el modelo\n",
        "from sklearn.metrics import confusion_matrix\n",
        "cm=confusion_matrix(yd,ydp)\n",
        "VN=cm[0,0];  FP=cm[0,1]; FN=cm [1,0]; VP=cm[1,1]\n",
        "\n",
        "Ex=(VP+VN)/(VP+VN+FP+FN)\n",
        "Se=VP/(VP+FN); Es=VN/(VN+FP)\n",
        "\n",
        "print('Exactitud: ',Ex)\n",
        "print('Sensibilidad: ',Se)\n",
        "print('Especifidad: ',Es)\n",
        "\n"
      ],
      "metadata": {
        "colab": {
          "base_uri": "https://localhost:8080/"
        },
        "id": "MyUbSYiyzpdF",
        "outputId": "2345d50c-8b0c-4d7f-86ee-19214287b49e"
      },
      "execution_count": null,
      "outputs": [
        {
          "output_type": "stream",
          "name": "stdout",
          "text": [
            "Exactitud:  0.8475\n",
            "Sensibilidad:  0.9478672985781991\n",
            "Especifidad:  0.7354497354497355\n"
          ]
        }
      ]
    },
    {
      "cell_type": "markdown",
      "source": [
        "3. Se procede con la visualización del árbol"
      ],
      "metadata": {
        "id": "wbiestrdzzIi"
      }
    },
    {
      "cell_type": "code",
      "source": [
        "from sklearn.tree import export_graphviz #Estructura del Arbol\n",
        "from pydotplus import graph_from_dot_data #Que datos le voy a colocar al árbol\n",
        "\n",
        "vs=['Age', 'Income', 'Years', 'Hours'] #Estos nombres aparecen en el árbol\n",
        "dot_data=export_graphviz(mar,feature_names=vs) #Asegurar nombres del gráfico\n",
        "graph=graph_from_dot_data(dot_data)                 #Se hace el gráfico del árbol\n",
        "graph.write_png('arbol.png')\n",
        " #Se crea la imaggraphen"
      ],
      "metadata": {
        "colab": {
          "base_uri": "https://localhost:8080/"
        },
        "id": "jTHqztruz4BT",
        "outputId": "b1e957f1-9f5a-42bd-89db-e971fedd2f83"
      },
      "execution_count": null,
      "outputs": [
        {
          "output_type": "execute_result",
          "data": {
            "text/plain": [
              "True"
            ]
          },
          "metadata": {},
          "execution_count": 4
        }
      ]
    },
    {
      "cell_type": "markdown",
      "source": [
        "**Análisis de resultados**\n",
        "\n",
        "En la base de datos se puede observar un total de 400 jugadores divididos en 211 jugadores que si hacen compras dentro de la  aplicación (53%) y un total de 189 jugadores que no hacen compras dentro de la aplicación. De acuerdo con lo anterior, el modelo de árbol arrojo un indice de exactitud cercano al 85% así como indices de sensibilidad cercanos al 95% igualmente y que muestran el comportamiento del modelo frente a la clasificación de jugadores que hacen compras dentro de la aplicación, Este mismo porcentaje en promedio se puede observar frente al indice de especificidad (74%) el cual mide el comportamiento del modelo en la predicción de jugadores que no harían compras dentro de la aplicación."
      ],
      "metadata": {
        "id": "YjMzJto7MsXt"
      }
    }
  ]
}
